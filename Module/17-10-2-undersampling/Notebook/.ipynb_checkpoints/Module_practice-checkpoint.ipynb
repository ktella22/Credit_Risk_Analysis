{
 "cells": [
  {
   "cell_type": "markdown",
   "id": "09de1810",
   "metadata": {},
   "source": [
    "# Undersampling"
   ]
  },
  {
   "cell_type": "markdown",
   "id": "4578c939",
   "metadata": {},
   "source": [
    "### Random Undersampling"
   ]
  },
  {
   "cell_type": "code",
   "execution_count": 1,
   "id": "b1409a18",
   "metadata": {},
   "outputs": [
    {
     "data": {
      "text/html": [
       "<div>\n",
       "<style scoped>\n",
       "    .dataframe tbody tr th:only-of-type {\n",
       "        vertical-align: middle;\n",
       "    }\n",
       "\n",
       "    .dataframe tbody tr th {\n",
       "        vertical-align: top;\n",
       "    }\n",
       "\n",
       "    .dataframe thead th {\n",
       "        text-align: right;\n",
       "    }\n",
       "</style>\n",
       "<table border=\"1\" class=\"dataframe\">\n",
       "  <thead>\n",
       "    <tr style=\"text-align: right;\">\n",
       "      <th></th>\n",
       "      <th>ID</th>\n",
       "      <th>ln_balance_limit</th>\n",
       "      <th>sex</th>\n",
       "      <th>education</th>\n",
       "      <th>marriage</th>\n",
       "      <th>age</th>\n",
       "      <th>default_next_month</th>\n",
       "    </tr>\n",
       "  </thead>\n",
       "  <tbody>\n",
       "    <tr>\n",
       "      <th>0</th>\n",
       "      <td>1</td>\n",
       "      <td>9.903488</td>\n",
       "      <td>1</td>\n",
       "      <td>2</td>\n",
       "      <td>0</td>\n",
       "      <td>24</td>\n",
       "      <td>1</td>\n",
       "    </tr>\n",
       "    <tr>\n",
       "      <th>1</th>\n",
       "      <td>2</td>\n",
       "      <td>11.695247</td>\n",
       "      <td>1</td>\n",
       "      <td>2</td>\n",
       "      <td>1</td>\n",
       "      <td>26</td>\n",
       "      <td>1</td>\n",
       "    </tr>\n",
       "    <tr>\n",
       "      <th>2</th>\n",
       "      <td>3</td>\n",
       "      <td>11.407565</td>\n",
       "      <td>1</td>\n",
       "      <td>2</td>\n",
       "      <td>1</td>\n",
       "      <td>34</td>\n",
       "      <td>0</td>\n",
       "    </tr>\n",
       "    <tr>\n",
       "      <th>3</th>\n",
       "      <td>4</td>\n",
       "      <td>10.819778</td>\n",
       "      <td>1</td>\n",
       "      <td>2</td>\n",
       "      <td>0</td>\n",
       "      <td>37</td>\n",
       "      <td>0</td>\n",
       "    </tr>\n",
       "    <tr>\n",
       "      <th>4</th>\n",
       "      <td>5</td>\n",
       "      <td>10.819778</td>\n",
       "      <td>0</td>\n",
       "      <td>2</td>\n",
       "      <td>0</td>\n",
       "      <td>57</td>\n",
       "      <td>0</td>\n",
       "    </tr>\n",
       "  </tbody>\n",
       "</table>\n",
       "</div>"
      ],
      "text/plain": [
       "   ID  ln_balance_limit  sex  education  marriage  age  default_next_month\n",
       "0   1          9.903488    1          2         0   24                   1\n",
       "1   2         11.695247    1          2         1   26                   1\n",
       "2   3         11.407565    1          2         1   34                   0\n",
       "3   4         10.819778    1          2         0   37                   0\n",
       "4   5         10.819778    0          2         0   57                   0"
      ]
     },
     "execution_count": 1,
     "metadata": {},
     "output_type": "execute_result"
    }
   ],
   "source": [
    "# Dependencies\n",
    "import pandas as pd\n",
    "from path import Path\n",
    "from collections import Counter\n",
    "\n",
    "file_load = Path(\"../Resources/cc_default.csv\")\n",
    "df = pd.read_csv(file_load)\n",
    "df.head()"
   ]
  },
  {
   "cell_type": "code",
   "execution_count": 2,
   "id": "1b3abdc9",
   "metadata": {},
   "outputs": [],
   "source": [
    "# Feature doesn't include \"ID\" and \"default_next_month\"\n",
    "# Target is \"default_next_month\"\n",
    "x_cols = [i for i in df.columns if i not in (\"ID\", \"default_next_month\")]\n",
    "X = df[x_cols]\n",
    "y = df[\"default_next_month\"]"
   ]
  },
  {
   "cell_type": "code",
   "execution_count": 3,
   "id": "59405add",
   "metadata": {},
   "outputs": [],
   "source": [
    "# Undersampling code is similar to Oversampling code \n",
    "# Split the data into training and testing sets\n",
    "from sklearn.model_selection import train_test_split\n",
    "X_train, X_test, y_train, y_test = train_test_split(X, y, random_state=1)"
   ]
  },
  {
   "cell_type": "code",
   "execution_count": 4,
   "id": "39d0b13d",
   "metadata": {},
   "outputs": [
    {
     "data": {
      "text/plain": [
       "Counter({0: 17532, 1: 4968})"
      ]
     },
     "execution_count": 4,
     "metadata": {},
     "output_type": "execute_result"
    }
   ],
   "source": [
    "# Use Counter\n",
    "Counter(y_train)"
   ]
  },
  {
   "cell_type": "code",
   "execution_count": 5,
   "id": "36e49b34",
   "metadata": {},
   "outputs": [
    {
     "data": {
      "text/plain": [
       "Counter({0: 4968, 1: 4968})"
      ]
     },
     "execution_count": 5,
     "metadata": {},
     "output_type": "execute_result"
    }
   ],
   "source": [
    "# Use RandomUnderSampler from imblearn library\n",
    "from imblearn.under_sampling import RandomUnderSampler\n",
    "ros = RandomUnderSampler(random_state=1)\n",
    "X_sampled, y_sampled = ros.fit_resample(X_train, y_train)\n",
    "Counter(y_sampled)"
   ]
  },
  {
   "cell_type": "code",
   "execution_count": 6,
   "id": "198d4f0d",
   "metadata": {},
   "outputs": [
    {
     "data": {
      "text/plain": [
       "LogisticRegression(random_state=1)"
      ]
     },
     "execution_count": 6,
     "metadata": {},
     "output_type": "execute_result"
    }
   ],
   "source": [
    "# Use logisticRegression model \n",
    "from sklearn.linear_model import LogisticRegression\n",
    "model = LogisticRegression(solver=\"lbfgs\", random_state=1)\n",
    "model.fit(X_sampled, y_sampled)"
   ]
  },
  {
   "cell_type": "code",
   "execution_count": 7,
   "id": "86c6e342",
   "metadata": {},
   "outputs": [
    {
     "data": {
      "text/plain": [
       "array([[3732, 2100],\n",
       "       [ 740,  928]], dtype=int64)"
      ]
     },
     "execution_count": 7,
     "metadata": {},
     "output_type": "execute_result"
    }
   ],
   "source": [
    "# Make a prediction and performance values \n",
    "from sklearn.metrics import confusion_matrix, balanced_accuracy_score\n",
    "y_pred = model.predict(X_test)\n",
    "confusion_matrix(y_test, y_pred)"
   ]
  },
  {
   "cell_type": "code",
   "execution_count": 8,
   "id": "c918036a",
   "metadata": {},
   "outputs": [
    {
     "data": {
      "text/plain": [
       "0.5981363057701987"
      ]
     },
     "execution_count": 8,
     "metadata": {},
     "output_type": "execute_result"
    }
   ],
   "source": [
    "# calculate accuracy and other performances \n",
    "balanced_accuracy_score(y_test, y_pred)"
   ]
  },
  {
   "cell_type": "code",
   "execution_count": 9,
   "id": "063b0aa7",
   "metadata": {},
   "outputs": [
    {
     "name": "stdout",
     "output_type": "stream",
     "text": [
      "                   pre       rec       spe        f1       geo       iba       sup\n",
      "\n",
      "          0       0.83      0.64      0.56      0.72      0.60      0.36      5832\n",
      "          1       0.31      0.56      0.64      0.40      0.60      0.35      1668\n",
      "\n",
      "avg / total       0.72      0.62      0.57      0.65      0.60      0.36      7500\n",
      "\n"
     ]
    }
   ],
   "source": [
    "# Calcualte the imblanced classification report \n",
    "from imblearn.metrics import classification_report_imbalanced\n",
    "print(classification_report_imbalanced(y_test, y_pred))"
   ]
  },
  {
   "cell_type": "markdown",
   "id": "61649354",
   "metadata": {},
   "source": [
    "## Cluster Centroid Undersampling"
   ]
  },
  {
   "cell_type": "code",
   "execution_count": null,
   "id": "42c0a9b8",
   "metadata": {},
   "outputs": [],
   "source": []
  }
 ],
 "metadata": {
  "kernelspec": {
   "display_name": "mlenv",
   "language": "python",
   "name": "mlenv"
  },
  "language_info": {
   "codemirror_mode": {
    "name": "ipython",
    "version": 3
   },
   "file_extension": ".py",
   "mimetype": "text/x-python",
   "name": "python",
   "nbconvert_exporter": "python",
   "pygments_lexer": "ipython3",
   "version": "3.8.8"
  }
 },
 "nbformat": 4,
 "nbformat_minor": 5
}
