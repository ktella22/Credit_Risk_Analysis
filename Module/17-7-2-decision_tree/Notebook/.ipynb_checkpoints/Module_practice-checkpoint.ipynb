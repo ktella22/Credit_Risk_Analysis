{
 "cells": [
  {
   "cell_type": "code",
   "execution_count": 1,
   "id": "5d2405aa",
   "metadata": {},
   "outputs": [
    {
     "data": {
      "text/html": [
       "<div>\n",
       "<style scoped>\n",
       "    .dataframe tbody tr th:only-of-type {\n",
       "        vertical-align: middle;\n",
       "    }\n",
       "\n",
       "    .dataframe tbody tr th {\n",
       "        vertical-align: top;\n",
       "    }\n",
       "\n",
       "    .dataframe thead th {\n",
       "        text-align: right;\n",
       "    }\n",
       "</style>\n",
       "<table border=\"1\" class=\"dataframe\">\n",
       "  <thead>\n",
       "    <tr style=\"text-align: right;\">\n",
       "      <th></th>\n",
       "      <th>amount</th>\n",
       "      <th>term</th>\n",
       "      <th>age</th>\n",
       "      <th>bad</th>\n",
       "      <th>month_num</th>\n",
       "      <th>education_Bachelor</th>\n",
       "      <th>education_High School or Below</th>\n",
       "      <th>education_Master or Above</th>\n",
       "      <th>education_college</th>\n",
       "      <th>gender_female</th>\n",
       "      <th>gender_male</th>\n",
       "    </tr>\n",
       "  </thead>\n",
       "  <tbody>\n",
       "    <tr>\n",
       "      <th>0</th>\n",
       "      <td>1000</td>\n",
       "      <td>30</td>\n",
       "      <td>45</td>\n",
       "      <td>0</td>\n",
       "      <td>6</td>\n",
       "      <td>0</td>\n",
       "      <td>1</td>\n",
       "      <td>0</td>\n",
       "      <td>0</td>\n",
       "      <td>0</td>\n",
       "      <td>1</td>\n",
       "    </tr>\n",
       "    <tr>\n",
       "      <th>1</th>\n",
       "      <td>1000</td>\n",
       "      <td>30</td>\n",
       "      <td>50</td>\n",
       "      <td>0</td>\n",
       "      <td>7</td>\n",
       "      <td>1</td>\n",
       "      <td>0</td>\n",
       "      <td>0</td>\n",
       "      <td>0</td>\n",
       "      <td>1</td>\n",
       "      <td>0</td>\n",
       "    </tr>\n",
       "    <tr>\n",
       "      <th>2</th>\n",
       "      <td>1000</td>\n",
       "      <td>30</td>\n",
       "      <td>33</td>\n",
       "      <td>0</td>\n",
       "      <td>8</td>\n",
       "      <td>1</td>\n",
       "      <td>0</td>\n",
       "      <td>0</td>\n",
       "      <td>0</td>\n",
       "      <td>1</td>\n",
       "      <td>0</td>\n",
       "    </tr>\n",
       "    <tr>\n",
       "      <th>3</th>\n",
       "      <td>1000</td>\n",
       "      <td>15</td>\n",
       "      <td>27</td>\n",
       "      <td>0</td>\n",
       "      <td>9</td>\n",
       "      <td>0</td>\n",
       "      <td>0</td>\n",
       "      <td>0</td>\n",
       "      <td>1</td>\n",
       "      <td>0</td>\n",
       "      <td>1</td>\n",
       "    </tr>\n",
       "    <tr>\n",
       "      <th>4</th>\n",
       "      <td>1000</td>\n",
       "      <td>30</td>\n",
       "      <td>28</td>\n",
       "      <td>0</td>\n",
       "      <td>10</td>\n",
       "      <td>0</td>\n",
       "      <td>0</td>\n",
       "      <td>0</td>\n",
       "      <td>1</td>\n",
       "      <td>1</td>\n",
       "      <td>0</td>\n",
       "    </tr>\n",
       "  </tbody>\n",
       "</table>\n",
       "</div>"
      ],
      "text/plain": [
       "   amount  term  age  bad  month_num  education_Bachelor  \\\n",
       "0    1000    30   45    0          6                   0   \n",
       "1    1000    30   50    0          7                   1   \n",
       "2    1000    30   33    0          8                   1   \n",
       "3    1000    15   27    0          9                   0   \n",
       "4    1000    30   28    0         10                   0   \n",
       "\n",
       "   education_High School or Below  education_Master or Above  \\\n",
       "0                               1                          0   \n",
       "1                               0                          0   \n",
       "2                               0                          0   \n",
       "3                               0                          0   \n",
       "4                               0                          0   \n",
       "\n",
       "   education_college  gender_female  gender_male  \n",
       "0                  0              0            1  \n",
       "1                  0              1            0  \n",
       "2                  0              1            0  \n",
       "3                  1              0            1  \n",
       "4                  1              1            0  "
      ]
     },
     "execution_count": 1,
     "metadata": {},
     "output_type": "execute_result"
    }
   ],
   "source": [
    "# import dependencies\n",
    "import pandas as pd\n",
    "from path import Path\n",
    "\n",
    "file_load = Path(\"../Resources/loans_data_encoded.csv\")\n",
    "df_loans = pd.read_csv(file_load)\n",
    "df_loans.head()"
   ]
  },
  {
   "cell_type": "code",
   "execution_count": 2,
   "id": "f0127883",
   "metadata": {},
   "outputs": [],
   "source": [
    "# Split the data into input and output (target) variables \n",
    "X = df_loans.copy()\n",
    "X = df_loans.drop(columns=\"bad\", axis=1)\n",
    "y = df_loans[\"bad\"].values.reshape(-1, 1)"
   ]
  },
  {
   "cell_type": "code",
   "execution_count": 22,
   "id": "ed523bb8",
   "metadata": {},
   "outputs": [
    {
     "name": "stdout",
     "output_type": "stream",
     "text": [
      "(375, 10)\n",
      "(125, 10)\n",
      "(375, 1)\n",
      "(125, 1)\n"
     ]
    }
   ],
   "source": [
    "# Split the data into training and testing set\n",
    "from sklearn.model_selection import train_test_split\n",
    "X_train, X_test, y_train, y_test = train_test_split(X, y, random_state=78, stratify=y)\n",
    "\n",
    "# Determine the shape of training and testing sets\n",
    "print(X_train.shape)\n",
    "print(X_test.shape)\n",
    "print(y_train.shape)\n",
    "print(y_test.shape)"
   ]
  },
  {
   "cell_type": "code",
   "execution_count": 23,
   "id": "8bc368e2",
   "metadata": {},
   "outputs": [
    {
     "name": "stdout",
     "output_type": "stream",
     "text": [
      "(400, 10)\n",
      "(100, 10)\n",
      "(400, 1)\n",
      "(100, 1)\n"
     ]
    }
   ],
   "source": [
    "# To modify the desired split with train_size\n",
    "X_train2, X_test2, y_train2, y_test2 = train_test_split(X, y, random_state=42, train_size=0.8)\n",
    "\n",
    "# Determine the shape of training and testing sets\n",
    "print(X_train2.shape)\n",
    "print(X_test2.shape)\n",
    "print(y_train2.shape)\n",
    "print(y_test2.shape)"
   ]
  },
  {
   "cell_type": "code",
   "execution_count": 24,
   "id": "f985f806",
   "metadata": {},
   "outputs": [],
   "source": [
    "# Scale the training and testing data with StandarScaler\n",
    "from sklearn.preprocessing import StandardScaler\n",
    "scaler = StandardScaler()\n",
    "\n",
    "# Fit the Standard Scaler with training data\n",
    "X_scaled = scaler.fit(X_train)\n",
    "\n",
    "# Scaling the data \n",
    "X_train_scaled = X_scaled.transform(X_train)\n",
    "X_test_scaled = X_scaled.transform(X_test)"
   ]
  },
  {
   "cell_type": "code",
   "execution_count": 25,
   "id": "768c2664",
   "metadata": {},
   "outputs": [
    {
     "data": {
      "text/plain": [
       "array([[ 0.50414236,  0.90735691, -0.16284939, -0.1286646 , -0.39223227,\n",
       "         1.13427746, -0.10383483, -0.84863625,  2.38671921, -2.38671921],\n",
       "       [-1.27100681, -0.96700321, -0.32613421, -0.73177989, -0.39223227,\n",
       "        -0.8816185 , -0.10383483,  1.17836116, -0.41898519,  0.41898519],\n",
       "       [ 0.50414236,  0.90735691, -0.81598866,  0.77600835, -0.39223227,\n",
       "         1.13427746, -0.10383483, -0.84863625, -0.41898519,  0.41898519],\n",
       "       [ 0.50414236,  0.90735691, -0.48941903,  0.17289305, -0.39223227,\n",
       "        -0.8816185 , -0.10383483,  1.17836116, -0.41898519,  0.41898519],\n",
       "       [-1.27100681, -0.96700321, -0.81598866, -1.33489519, -0.39223227,\n",
       "         1.13427746, -0.10383483, -0.84863625, -0.41898519,  0.41898519]])"
      ]
     },
     "execution_count": 25,
     "metadata": {},
     "output_type": "execute_result"
    }
   ],
   "source": [
    "X_train_scaled[:5]\n"
   ]
  },
  {
   "cell_type": "code",
   "execution_count": 26,
   "id": "3dd97404",
   "metadata": {},
   "outputs": [
    {
     "data": {
      "text/plain": [
       "array([[ 5.04142365e-01,  9.07356908e-01, -1.62849392e-01,\n",
       "         1.37912364e+00, -3.92232270e-01, -8.81618503e-01,\n",
       "        -1.03834826e-01,  1.17836116e+00, -4.18985190e-01,\n",
       "         4.18985190e-01],\n",
       "       [ 5.04142365e-01,  9.07356908e-01,  4.90289880e-01,\n",
       "        -1.63645284e+00, -3.92232270e-01,  1.13427746e+00,\n",
       "        -1.03834826e-01, -8.48636251e-01, -4.18985190e-01,\n",
       "         4.18985190e-01],\n",
       "       [-1.27100681e+00, -9.67003212e-01, -6.52703846e-01,\n",
       "         1.68068129e+00, -3.92232270e-01,  1.13427746e+00,\n",
       "        -1.03834826e-01, -8.48636251e-01, -4.18985190e-01,\n",
       "         4.18985190e-01],\n",
       "       [-5.70887974e+00, -1.96666194e+00,  6.53574699e-01,\n",
       "         1.68068129e+00, -3.92232270e-01, -8.81618503e-01,\n",
       "        -1.03834826e-01,  1.17836116e+00, -4.18985190e-01,\n",
       "         4.18985190e-01],\n",
       "       [ 5.04142365e-01,  9.07356908e-01,  4.35426182e-04,\n",
       "        -1.33489519e+00,  2.54950976e+00, -8.81618503e-01,\n",
       "        -1.03834826e-01, -8.48636251e-01, -4.18985190e-01,\n",
       "         4.18985190e-01]])"
      ]
     },
     "execution_count": 26,
     "metadata": {},
     "output_type": "execute_result"
    }
   ],
   "source": [
    "X_test_scaled[:5]"
   ]
  },
  {
   "cell_type": "markdown",
   "id": "89279537",
   "metadata": {},
   "source": [
    "## Make Predictions and Evaluate Results"
   ]
  },
  {
   "cell_type": "code",
   "execution_count": 27,
   "id": "ba647b7c",
   "metadata": {},
   "outputs": [],
   "source": [
    "# Fit the decision Model \n",
    "# Creating the decision tree classifier model \n",
    "from sklearn import tree\n",
    "model = tree.DecisionTreeClassifier()\n",
    "\n",
    "# Fitting the model \n",
    "model = model.fit(X_train_scaled, y_train)"
   ]
  },
  {
   "cell_type": "code",
   "execution_count": 28,
   "id": "2796ff14",
   "metadata": {},
   "outputs": [
    {
     "data": {
      "text/plain": [
       "array([0, 0, 0, 0, 0, 1, 0, 0, 1, 1, 0, 0, 0, 0, 1, 1, 1, 0, 1, 1, 0, 1,\n",
       "       0, 0, 1, 1, 1, 0, 0, 0, 0, 1, 0, 1, 1, 0, 0, 1, 0, 1, 0, 1, 1, 0,\n",
       "       1, 0, 1, 0, 0, 1, 0, 0, 0, 0, 1, 1, 0, 0, 1, 0, 0, 0, 0, 1, 1, 0,\n",
       "       0, 1, 1, 0, 0, 1, 1, 1, 1, 1, 1, 1, 1, 0, 0, 0, 0, 1, 0, 0, 0, 0,\n",
       "       1, 0, 0, 1, 1, 1, 1, 0, 0, 0, 1, 1, 1, 0, 0, 0, 0, 0, 1, 0, 1, 1,\n",
       "       1, 0, 1, 1, 1, 1, 1, 1, 0, 0, 1, 0, 0, 0, 0], dtype=int64)"
      ]
     },
     "execution_count": 28,
     "metadata": {},
     "output_type": "execute_result"
    }
   ],
   "source": [
    "# Making predictions using testing data \n",
    "predictions = model.predict(X_test_scaled)\n",
    "predictions"
   ]
  },
  {
   "cell_type": "code",
   "execution_count": 30,
   "id": "323191eb",
   "metadata": {},
   "outputs": [
    {
     "data": {
      "text/html": [
       "<div>\n",
       "<style scoped>\n",
       "    .dataframe tbody tr th:only-of-type {\n",
       "        vertical-align: middle;\n",
       "    }\n",
       "\n",
       "    .dataframe tbody tr th {\n",
       "        vertical-align: top;\n",
       "    }\n",
       "\n",
       "    .dataframe thead th {\n",
       "        text-align: right;\n",
       "    }\n",
       "</style>\n",
       "<table border=\"1\" class=\"dataframe\">\n",
       "  <thead>\n",
       "    <tr style=\"text-align: right;\">\n",
       "      <th></th>\n",
       "      <th>Predicted 0</th>\n",
       "      <th>Predicted 1</th>\n",
       "    </tr>\n",
       "  </thead>\n",
       "  <tbody>\n",
       "    <tr>\n",
       "      <th>Actual 0</th>\n",
       "      <td>36</td>\n",
       "      <td>39</td>\n",
       "    </tr>\n",
       "    <tr>\n",
       "      <th>Actual 1</th>\n",
       "      <td>32</td>\n",
       "      <td>18</td>\n",
       "    </tr>\n",
       "  </tbody>\n",
       "</table>\n",
       "</div>"
      ],
      "text/plain": [
       "          Predicted 0  Predicted 1\n",
       "Actual 0           36           39\n",
       "Actual 1           32           18"
      ]
     },
     "execution_count": 30,
     "metadata": {},
     "output_type": "execute_result"
    }
   ],
   "source": [
    "# Evaluate the model \n",
    "# confusion_matrix to get the entries, confession_report\n",
    "from sklearn.metrics import confusion_matrix, accuracy_score, classification_report\n",
    "cm = confusion_matrix(y_test, predictions)\n",
    "\n",
    "# Create DataFrame from confusion matrix\n",
    "cm_df = pd.DataFrame(cm, index=[\"Actual 0\", \"Actual 1\"], columns=[\"Predicted 0\", \"Predicted 1\"])\n",
    "cm_df.head()"
   ]
  },
  {
   "cell_type": "code",
   "execution_count": 31,
   "id": "a5661e05",
   "metadata": {},
   "outputs": [
    {
     "data": {
      "text/plain": [
       "0.432"
      ]
     },
     "execution_count": 31,
     "metadata": {},
     "output_type": "execute_result"
    }
   ],
   "source": [
    "# Calculate the accuracy score of the prediction \n",
    "acc_score = accuracy_score(y_test, predictions)\n",
    "acc_score"
   ]
  },
  {
   "cell_type": "code",
   "execution_count": 36,
   "id": "f542fb59",
   "metadata": {},
   "outputs": [
    {
     "name": "stdout",
     "output_type": "stream",
     "text": [
      "confusion_matrix\n"
     ]
    },
    {
     "data": {
      "text/html": [
       "<div>\n",
       "<style scoped>\n",
       "    .dataframe tbody tr th:only-of-type {\n",
       "        vertical-align: middle;\n",
       "    }\n",
       "\n",
       "    .dataframe tbody tr th {\n",
       "        vertical-align: top;\n",
       "    }\n",
       "\n",
       "    .dataframe thead th {\n",
       "        text-align: right;\n",
       "    }\n",
       "</style>\n",
       "<table border=\"1\" class=\"dataframe\">\n",
       "  <thead>\n",
       "    <tr style=\"text-align: right;\">\n",
       "      <th></th>\n",
       "      <th>Predicted 0</th>\n",
       "      <th>Predicted 1</th>\n",
       "    </tr>\n",
       "  </thead>\n",
       "  <tbody>\n",
       "    <tr>\n",
       "      <th>Actual 0</th>\n",
       "      <td>36</td>\n",
       "      <td>39</td>\n",
       "    </tr>\n",
       "    <tr>\n",
       "      <th>Actual 1</th>\n",
       "      <td>32</td>\n",
       "      <td>18</td>\n",
       "    </tr>\n",
       "  </tbody>\n",
       "</table>\n",
       "</div>"
      ],
      "text/plain": [
       "          Predicted 0  Predicted 1\n",
       "Actual 0           36           39\n",
       "Actual 1           32           18"
      ]
     },
     "metadata": {},
     "output_type": "display_data"
    },
    {
     "name": "stdout",
     "output_type": "stream",
     "text": [
      "Accuracy Score: 0.432\n",
      "Classification Report\n",
      "              precision    recall  f1-score   support\n",
      "\n",
      "           0       0.53      0.48      0.50        75\n",
      "           1       0.32      0.36      0.34        50\n",
      "\n",
      "    accuracy                           0.43       125\n",
      "   macro avg       0.42      0.42      0.42       125\n",
      "weighted avg       0.44      0.43      0.44       125\n",
      "\n"
     ]
    }
   ],
   "source": [
    "# Displaying results \n",
    "print(\"confusion_matrix\")\n",
    "display(cm_df)\n",
    "print(f\"Accuracy Score: {acc_score}\")\n",
    "\n",
    "print(\"Classification Report\")\n",
    "print(classification_report(y_test, predictions))"
   ]
  },
  {
   "cell_type": "code",
   "execution_count": null,
   "id": "e48d529b",
   "metadata": {},
   "outputs": [],
   "source": []
  }
 ],
 "metadata": {
  "kernelspec": {
   "display_name": "mlenv",
   "language": "python",
   "name": "mlenv"
  },
  "language_info": {
   "codemirror_mode": {
    "name": "ipython",
    "version": 3
   },
   "file_extension": ".py",
   "mimetype": "text/x-python",
   "name": "python",
   "nbconvert_exporter": "python",
   "pygments_lexer": "ipython3",
   "version": "3.8.8"
  }
 },
 "nbformat": 4,
 "nbformat_minor": 5
}
